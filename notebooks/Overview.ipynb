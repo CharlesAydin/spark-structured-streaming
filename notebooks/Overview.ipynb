{
 "cells": [
  {
   "cell_type": "markdown",
   "metadata": {},
   "source": [
    "# Overview\n",
    "\n",
    "1. We'll first introduce Spark both in batch mode and streaming in [Spark Datasets and Structured Streaming](Spark_Datasets_and_Structured_Streaming.ipynb).\n",
    "1. Second, we'll do a deep dive into [Spark Structured Streaming](Spark_Structured_Streaming.ipynb) exploring the API.\n",
    "1. Next, we'll go under the hood, looking at different improvements, and comparing Spark and Spark Streaming in [DStream Comparison](DStream_Comparison.ipynb).\n",
    "1. Finally, we'll look at how to build [Standalone Spark Streaming Applications](Standalone_Spark_Streaming_Applications.ipynb)"
   ]
  }
 ],
 "metadata": {
  "kernelspec": {
   "display_name": "apache_toree - Scala",
   "language": "scala",
   "name": "apache_toree_scala"
  },
  "language_info": {
   "name": "scala",
   "version": "2.11.8"
  }
 },
 "nbformat": 4,
 "nbformat_minor": 0
}
